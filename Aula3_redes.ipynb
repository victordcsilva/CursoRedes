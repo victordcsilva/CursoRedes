{
 "cells": [
  {
   "cell_type": "markdown",
   "metadata": {},
   "source": [
    "# Cisco Packet Tracer\n",
    "\n",
    "- O Cisco Packet Tracer é um simulador de redes.\n",
    "- Usado para praticar com equipamentos virtuais.\n",
    "- Pode ser baixado em: https://www.netacad.com/pt-br/courses/packet-tracer\n",
    "\n",
    "![LAN](https://i.ibb.co/hDJtS0L/maxresdefault.jpg)\n",
    "\n",
    "- Exemplo de uma rede LAN simulada no Cisco Packet Tracer.\n",
    "    - Podemos notar que tem um Switch conectando 4 computadores. \n",
    "    - A cor na ponta dos cabos indica a qualidade da conexão.\n",
    "        - Verde: Conexão funcionando.\n",
    "        - Laranja: Tentando se conectar.\n",
    "        - Vermelho: Sem conexão.\n",
    "        "
   ]
  },
  {
   "cell_type": "markdown",
   "metadata": {},
   "source": [
    "![LAN_geral](https://i.ibb.co/TYzbN5z/image.png)\n",
    "- Rede mais avançada com várias LAN's, Servidor, rede cabeada, rede sem fio, Switches e Roteadores"
   ]
  },
  {
   "cell_type": "code",
   "execution_count": null,
   "metadata": {
    "collapsed": true
   },
   "outputs": [],
   "source": []
  }
 ],
 "metadata": {
  "kernelspec": {
   "display_name": "Python 3",
   "language": "python",
   "name": "python3"
  },
  "language_info": {
   "codemirror_mode": {
    "name": "ipython",
    "version": 3
   },
   "file_extension": ".py",
   "mimetype": "text/x-python",
   "name": "python",
   "nbconvert_exporter": "python",
   "pygments_lexer": "ipython3",
   "version": "3.4.5"
  }
 },
 "nbformat": 4,
 "nbformat_minor": 2
}
